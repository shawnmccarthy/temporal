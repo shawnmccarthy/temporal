{
 "cells": [
  {
   "cell_type": "code",
   "execution_count": 1,
   "metadata": {
    "pycharm": {
     "is_executing": true,
     "name": "#%%\n"
    }
   },
   "outputs": [
    {
     "ename": "ImportError",
     "evalue": "cannot import name 'TimeSeries' from 'darts' (unknown location)",
     "output_type": "error",
     "traceback": [
      "\u001b[0;31m---------------------------------------------------------------------------\u001b[0m",
      "\u001b[0;31mImportError\u001b[0m                               Traceback (most recent call last)",
      "Input \u001b[0;32mIn [1]\u001b[0m, in \u001b[0;36m<module>\u001b[0;34m\u001b[0m\n\u001b[1;32m      9\u001b[0m \u001b[38;5;28;01mfrom\u001b[39;00m \u001b[38;5;21;01msklearn\u001b[39;00m\u001b[38;5;21;01m.\u001b[39;00m\u001b[38;5;21;01mpreprocessing\u001b[39;00m \u001b[38;5;28;01mimport\u001b[39;00m StandardScaler, MinMaxScaler\n\u001b[1;32m     10\u001b[0m \u001b[38;5;28;01mimport\u001b[39;00m \u001b[38;5;21;01mseaborn\u001b[39;00m \u001b[38;5;28;01mas\u001b[39;00m \u001b[38;5;21;01msns\u001b[39;00m\n\u001b[0;32m---> 12\u001b[0m \u001b[38;5;28;01mfrom\u001b[39;00m \u001b[38;5;21;01mdarts\u001b[39;00m \u001b[38;5;28;01mimport\u001b[39;00m TimeSeries\n\u001b[1;32m     13\u001b[0m \u001b[38;5;28;01mfrom\u001b[39;00m \u001b[38;5;21;01mdarts\u001b[39;00m\u001b[38;5;21;01m.\u001b[39;00m\u001b[38;5;21;01mmodels\u001b[39;00m \u001b[38;5;28;01mimport\u001b[39;00m TCNModel, RNNModel, NBEATSModel\n\u001b[1;32m     14\u001b[0m \u001b[38;5;28;01mfrom\u001b[39;00m \u001b[38;5;21;01mdarts\u001b[39;00m\u001b[38;5;21;01m.\u001b[39;00m\u001b[38;5;21;01mdataprocessing\u001b[39;00m\u001b[38;5;21;01m.\u001b[39;00m\u001b[38;5;21;01mtransformers\u001b[39;00m \u001b[38;5;28;01mimport\u001b[39;00m Scaler\n",
      "\u001b[0;31mImportError\u001b[0m: cannot import name 'TimeSeries' from 'darts' (unknown location)"
     ]
    }
   ],
   "source": [
    "# fix python path if working locally\n",
    "from utils import fix_pythonpath_if_working_locally\n",
    "\n",
    "fix_pythonpath_if_working_locally()\n",
    "\n",
    "import numpy as np\n",
    "import pandas as pd\n",
    "import matplotlib.pyplot as plt\n",
    "from sklearn.preprocessing import StandardScaler, MinMaxScaler\n",
    "import seaborn as sns\n",
    "\n",
    "from darts import TimeSeries\n",
    "from darts.models import TCNModel, RNNModel, NBEATSModel\n",
    "from darts.dataprocessing.transformers import Scaler\n",
    "from darts.utils.likelihood_models import GaussianLikelihood\n",
    "from darts.utils.timeseries_generation import datetime_attribute_timeseries\n",
    "from darts.metrics import mape, r2_score, rmse\n",
    "from darts.utils.missing_values import fill_missing_values\n",
    "from darts.datasets import AirPassengersDataset, SunspotsDataset, EnergyDataset\n",
    "from darts.utils.statistics import check_seasonality, plot_acf, stationarity_tests\n",
    "\n",
    "%matplotlib inline\n",
    "plt.rcParams[\"figure.figsize\"] = (20, 10)"
   ]
  },
  {
   "cell_type": "code",
   "execution_count": null,
   "metadata": {
    "pycharm": {
     "is_executing": true,
     "name": "#%%\n"
    }
   },
   "outputs": [],
   "source": [
    "import matplotlib\n",
    "\n",
    "print(matplotlib.font_manager.get_cachedir())"
   ]
  },
  {
   "cell_type": "code",
   "execution_count": null,
   "metadata": {
    "pycharm": {
     "name": "#%%\n"
    }
   },
   "outputs": [],
   "source": [
    "# Read data:\n",
    "\n",
    "missing_values = [\"n/a\", \"na\", \"NaN\", \"--\", \"null\"]\n",
    "df = pd.read_csv('data/CombinedMacroSectorv4.csv', sep=\",\", na_values = missing_values, index_col=None)\n",
    "print(df.shape)"
   ]
  },
  {
   "cell_type": "code",
   "execution_count": null,
   "metadata": {
    "pycharm": {
     "name": "#%%\n"
    }
   },
   "outputs": [],
   "source": [
    "df.head()"
   ]
  },
  {
   "cell_type": "code",
   "execution_count": null,
   "metadata": {
    "pycharm": {
     "name": "#%%\n"
    }
   },
   "outputs": [],
   "source": [
    "df['time'] = pd.to_datetime(df['Date'],utc=True)\n",
    "df['time']= df.time.dt.tz_localize(None)\n",
    "#df['Time'] = normalize(df)\n",
    "#df['Class'] = df['Recession']\n",
    "#std_normalize([\"Oil\", \"Inflation\", \"CPI\", \"Dollar Index\", \"GDP\", \"Unemployment\", \"Energy\", \"Gold\",\n",
    "#\"Materials\", \"Industrials\", \"Customer Discretionary\", \"Consumer Staples\", \"Health\",\n",
    "#\"Financials\", \"Technology\", \"Telecommunications\", \"Utilities\", \"Real Estate\", \"Spy\"], df)\n",
    "df.drop(['Date'], axis=1, inplace=True)\n",
    "#df.drop(['Cycle'], axis=1, inplace=True)\n",
    "#df.drop(['Gold'], axis=1, inplace=True)\n",
    "\n",
    "#ts = scaler.fit_transform(\n",
    "#    ts\n",
    "#)  # scale the whole time series not caring about train/val split..."
   ]
  },
  {
   "cell_type": "code",
   "execution_count": null,
   "metadata": {
    "pycharm": {
     "name": "#%%\n"
    }
   },
   "outputs": [],
   "source": [
    "daily_cov = pd.read_csv('data/news_sentiment_data.csv', sep=\",\", na_values = missing_values, index_col=None)\n",
    "print(daily_cov.shape)"
   ]
  },
  {
   "cell_type": "code",
   "execution_count": null,
   "metadata": {
    "pycharm": {
     "name": "#%%\n"
    }
   },
   "outputs": [],
   "source": [
    "daily_cov.head()"
   ]
  },
  {
   "cell_type": "code",
   "execution_count": null,
   "metadata": {
    "pycharm": {
     "name": "#%%\n"
    }
   },
   "outputs": [],
   "source": [
    "daily_cov['time'] = pd.to_datetime(daily_cov['date'],utc=True)\n",
    "daily_cov['time']= daily_cov.time.dt.tz_localize(None)\n",
    "daily_cov.drop(['date'], axis=1, inplace=True)\n",
    "#daily_cov = daily_cov.time.isin(df.time)\n",
    "daily_cov = daily_cov[daily_cov.time.isin(df.time)]\n",
    "print(daily_cov.shape)"
   ]
  },
  {
   "cell_type": "code",
   "execution_count": null,
   "metadata": {
    "pycharm": {
     "name": "#%%\n"
    }
   },
   "outputs": [],
   "source": [
    "result = pd.concat([df, daily_cov], axis=1).corr()\n",
    "sns.heatmap(result, cmap=\"Greens\",annot=True)"
   ]
  },
  {
   "cell_type": "code",
   "execution_count": null,
   "metadata": {
    "pycharm": {
     "name": "#%%\n"
    }
   },
   "outputs": [],
   "source": [
    "series_cov = TimeSeries.from_dataframe(daily_cov, 'time', [\"sentiment\"])"
   ]
  },
  {
   "cell_type": "code",
   "execution_count": null,
   "metadata": {
    "pycharm": {
     "name": "#%%\n"
    }
   },
   "outputs": [],
   "source": [
    "scaler_cov = Scaler(MinMaxScaler(feature_range=(-1, 1)))\n",
    "series_cov_transformed = scaler_cov.fit_transform(\n",
    "    series_cov\n",
    ")"
   ]
  },
  {
   "cell_type": "code",
   "execution_count": null,
   "metadata": {
    "pycharm": {
     "name": "#%%\n"
    }
   },
   "outputs": [],
   "source": [
    "train_cov, val_cov =  series_cov_transformed.split_after(pd.Timestamp('20170901'))\n",
    "series_cov_transformed.plot()"
   ]
  },
  {
   "cell_type": "code",
   "execution_count": null,
   "metadata": {
    "pycharm": {
     "name": "#%%\n"
    }
   },
   "outputs": [],
   "source": [
    "columns = [\"Oil\", \"Inflation\", \"CPI\", \"Dollar Index\", \"GDP\", \"Unemployment\", \"Energy\", \"Gold\",\n",
    "\"Materials\", \"Industrials\", \"Customer Discretionary\", \"Consumer Staples\", \"Health\",\n",
    "\"Financials\", \"Technology\", \"Telecommunications\", \"Utilities\", \"Real Estate\", \"Spy\"]\n",
    "\n",
    "series = TimeSeries.from_dataframe(df, 'time', ['Oil', \"CPI\", \"Dollar Index\", \"Spy\"])"
   ]
  },
  {
   "cell_type": "code",
   "execution_count": null,
   "metadata": {
    "pycharm": {
     "name": "#%%\n"
    }
   },
   "outputs": [],
   "source": [
    "scaler = Scaler()\n",
    "series_transformed = scaler.fit_transform(\n",
    "    series\n",
    ")  #scale the whole time series not caring about train/val split..\n",
    "\n",
    "train, val =  series_transformed.split_after(pd.Timestamp('20170901'))\n",
    "series_transformed.plot()"
   ]
  },
  {
   "cell_type": "code",
   "execution_count": null,
   "metadata": {
    "pycharm": {
     "name": "#%%\n"
    }
   },
   "outputs": [],
   "source": [
    "seasonality = check_seasonality(series_transformed[\"Spy\"], max_lag=series_transformed.n_timesteps)\n",
    "print(seasonality)"
   ]
  },
  {
   "cell_type": "code",
   "execution_count": null,
   "metadata": {
    "pycharm": {
     "name": "#%%\n"
    }
   },
   "outputs": [],
   "source": [
    "plot_acf(series_transformed[\"Spy\"], 365, max_lag=series_transformed.n_timesteps-1)"
   ]
  },
  {
   "cell_type": "code",
   "execution_count": null,
   "metadata": {
    "pycharm": {
     "name": "#%%\n"
    }
   },
   "outputs": [],
   "source": [
    "stationary = stationarity_tests(series_transformed[\"Spy\"])\n",
    "print(stationary)"
   ]
  },
  {
   "cell_type": "code",
   "execution_count": null,
   "metadata": {
    "pycharm": {
     "name": "#%%\n"
    }
   },
   "outputs": [],
   "source": [
    "def nbeat_model(blocks, layers, stacks, generic, train_series, val_series, past_covariates_train=None, past_covariates_val=None, future_covariates_train=None, future_covariates_val=None):\n",
    "    model = NBEATSModel(\n",
    "        input_chunk_length=365,\n",
    "        output_chunk_length=7,\n",
    "        generic_architecture=generic,\n",
    "        n_epochs=50,\n",
    "        num_layers=layers,\n",
    "        num_blocks=blocks,\n",
    "        num_stacks=stacks,\n",
    "        nr_epochs_val_period=1,\n",
    "        layer_widths=512,\n",
    "        #batch_size=800,\n",
    "        model_name=\"nbeats_interpretable_run\",\n",
    "    )\n",
    "\n",
    "    model.fit(\n",
    "        series=train_series,\n",
    "        val_series=val_series,\n",
    "        past_covariates=past_covariates_train,\n",
    "        val_past_covariates=past_covariates_val,\n",
    "        future_covariates=future_covariates_train,\n",
    "        val_future_covariates=future_covariates_val,\n",
    "        verbose=True,\n",
    "    )\n",
    "\n",
    "    return model"
   ]
  },
  {
   "cell_type": "code",
   "execution_count": null,
   "metadata": {
    "pycharm": {
     "name": "#%%\n"
    }
   },
   "outputs": [],
   "source": [
    "def eval_model(model, series, past_covariates=None, future_covariates=None):\n",
    "    backtest = model.historical_forecasts(\n",
    "        series=series,\n",
    "        past_covariates=past_covariates,\n",
    "        future_covariates=future_covariates,\n",
    "        start=0.7,\n",
    "        forecast_horizon=7,\n",
    "        stride=10,\n",
    "        retrain=False,\n",
    "        verbose=True,\n",
    "    )\n",
    "    #series[2000:].plot(label=\"actual\")\n",
    "    series.plot(label=\"actual\")\n",
    "    backtest.plot(label=\"backtest (H=7 day)\")\n",
    "    r2_score_value = r2_score(series, backtest)\n",
    "    plt.title('R2:' + str(r2_score_value))\n",
    "    plt.legend()\n",
    "    print('Backtest RMSE = {}'.format(rmse(series, backtest)))"
   ]
  },
  {
   "cell_type": "code",
   "execution_count": null,
   "metadata": {
    "pycharm": {
     "name": "#%%\n"
    }
   },
   "outputs": [],
   "source": [
    "model = nbeat_model(1, 4, 10, False, train, val) #was 5"
   ]
  },
  {
   "cell_type": "code",
   "execution_count": null,
   "metadata": {
    "pycharm": {
     "name": "#%%\n"
    }
   },
   "outputs": [],
   "source": [
    "eval_model(model, series_transformed)"
   ]
  },
  {
   "cell_type": "code",
   "execution_count": null,
   "metadata": {
    "pycharm": {
     "name": "#%%\n"
    }
   },
   "outputs": [],
   "source": [
    "model = nbeat_model(1, 4, 10, False, train, val, train_cov, val_cov)"
   ]
  },
  {
   "cell_type": "code",
   "execution_count": null,
   "metadata": {
    "pycharm": {
     "name": "#%%\n"
    }
   },
   "outputs": [],
   "source": [
    "eval_model(model, series_transformed, series_cov_transformed)"
   ]
  },
  {
   "cell_type": "code",
   "execution_count": null,
   "metadata": {
    "pycharm": {
     "name": "#%%\n"
    }
   },
   "outputs": [],
   "source": [
    "model = nbeat_model(3, 4, 10, False, train, val)"
   ]
  },
  {
   "cell_type": "code",
   "execution_count": null,
   "metadata": {
    "pycharm": {
     "name": "#%%\n"
    }
   },
   "outputs": [],
   "source": [
    "eval_model(model, series_transformed)"
   ]
  },
  {
   "cell_type": "code",
   "execution_count": null,
   "metadata": {
    "pycharm": {
     "name": "#%%\n"
    }
   },
   "outputs": [],
   "source": [
    "model = nbeat_model(3, 4, 10, False, train, val, train_cov, val_cov)"
   ]
  },
  {
   "cell_type": "code",
   "execution_count": null,
   "metadata": {
    "pycharm": {
     "name": "#%%\n"
    }
   },
   "outputs": [],
   "source": [
    "eval_model(model, series_transformed, series_cov_transformed)"
   ]
  },
  {
   "cell_type": "code",
   "execution_count": null,
   "metadata": {
    "pycharm": {
     "name": "#%%\n"
    }
   },
   "outputs": [],
   "source": [
    "model = nbeat_model(7, 4, 10, False, train, val)"
   ]
  },
  {
   "cell_type": "code",
   "execution_count": null,
   "metadata": {
    "pycharm": {
     "name": "#%%\n"
    }
   },
   "outputs": [],
   "source": [
    "eval_model(model, series_transformed)"
   ]
  },
  {
   "cell_type": "code",
   "execution_count": null,
   "metadata": {
    "pycharm": {
     "name": "#%%\n"
    }
   },
   "outputs": [],
   "source": [
    "model = nbeat_model(7, 4, 10, False, train, val, train_cov, val_cov)"
   ]
  },
  {
   "cell_type": "code",
   "execution_count": null,
   "metadata": {
    "pycharm": {
     "name": "#%%\n"
    }
   },
   "outputs": [],
   "source": [
    "eval_model(model, series_transformed, series_cov_transformed)"
   ]
  }
 ],
 "metadata": {
  "kernelspec": {
   "display_name": "test_env",
   "language": "python",
   "name": "test_env"
  },
  "language_info": {
   "codemirror_mode": {
    "name": "ipython",
    "version": 3
   },
   "file_extension": ".py",
   "mimetype": "text/x-python",
   "name": "python",
   "nbconvert_exporter": "python",
   "pygments_lexer": "ipython3",
   "version": "3.9.10"
  }
 },
 "nbformat": 4,
 "nbformat_minor": 1
}
